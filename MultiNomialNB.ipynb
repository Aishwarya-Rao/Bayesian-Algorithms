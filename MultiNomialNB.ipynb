{
 "cells": [
  {
   "cell_type": "code",
   "execution_count": null,
   "metadata": {},
   "outputs": [],
   "source": [
    "import pandas as pd\n",
    "import statistics\n",
    "import math"
   ]
  },
  {
   "cell_type": "code",
   "execution_count": null,
   "metadata": {},
   "outputs": [],
   "source": [
    "inp_df=pd.read_csv('playgolf_data.csv')"
   ]
  },
  {
   "cell_type": "code",
   "execution_count": null,
   "metadata": {},
   "outputs": [],
   "source": [
    "inp_df"
   ]
  },
  {
   "cell_type": "code",
   "execution_count": null,
   "metadata": {},
   "outputs": [],
   "source": [
    "L_yes=inp_df['PlayGolf'].value_counts()['Yes']\n",
    "L_no=inp_df['PlayGolf'].value_counts()['No']"
   ]
  },
  {
   "cell_type": "code",
   "execution_count": null,
   "metadata": {},
   "outputs": [],
   "source": [
    "def probs(target):\n",
    "    alpha=1\n",
    "    k=4\n",
    "    yes,no=(alpha)/(alpha*k),(alpha)/(alpha*k)\n",
    "    for i in range(target.nunique()):\n",
    "        sub_feature=target.unique()[i]\n",
    "        if sub_feature=='Yes':\n",
    "            yes=(target.value_counts()[sub_feature]+alpha)/(L_yes+alpha*k)\n",
    "        else :\n",
    "            no=(target.value_counts()[sub_feature]+alpha)/(L_no+alpha*k)\n",
    "    return yes,no"
   ]
  },
  {
   "cell_type": "code",
   "execution_count": null,
   "metadata": {},
   "outputs": [],
   "source": [
    "def NaiveBayes(data,feature):\n",
    "    probv={}\n",
    "    P_yes_given=1\n",
    "    P_no_given=1\n",
    "    for i in range(data[feature].nunique()):\n",
    "        sub_feature=data[feature].unique()[i]\n",
    "        dfnew = data[data[feature]==sub_feature]\n",
    "        prob_yes,prob_no=probs(dfnew['PlayGolf'])\n",
    "        probv[sub_feature]={(prob_yes,prob_no)}\n",
    "\n",
    "    return probv\n",
    "        # probv[1][i]=data[feature].unique()[i]\n",
    "        # probv[2][i]=data[feature].unique()[i]"
   ]
  },
  {
   "cell_type": "code",
   "execution_count": null,
   "metadata": {},
   "outputs": [],
   "source": [
    "print(NaiveBayes(inp_df,'Outlook'))"
   ]
  },
  {
   "cell_type": "code",
   "execution_count": null,
   "metadata": {},
   "outputs": [],
   "source": []
  },
  {
   "cell_type": "code",
   "execution_count": null,
   "metadata": {},
   "outputs": [],
   "source": []
  }
 ],
 "metadata": {
  "language_info": {
   "name": "python"
  }
 },
 "nbformat": 4,
 "nbformat_minor": 2
}
